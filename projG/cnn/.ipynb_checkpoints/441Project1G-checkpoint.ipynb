{
 "cells": [
  {
   "cell_type": "markdown",
   "metadata": {
    "colab_type": "text",
    "id": "R6n8isjJS34r"
   },
   "source": [
    "# CIS 441 Project 1G"
   ]
  },
  {
   "cell_type": "markdown",
   "metadata": {
    "colab_type": "text",
    "id": "cdHhTJoKS34s"
   },
   "source": [
    "### Import essential packages"
   ]
  },
  {
   "cell_type": "code",
   "execution_count": 1,
   "metadata": {
    "colab": {},
    "colab_type": "code",
    "id": "aZpKltbxS34t"
   },
   "outputs": [
    {
     "name": "stderr",
     "output_type": "stream",
     "text": [
      "Using TensorFlow backend.\n"
     ]
    }
   ],
   "source": [
    "from keras.models import Sequential\n",
    "from keras.layers import Dense, Dropout, Activation, Flatten\n",
    "from keras.layers import Convolution2D, MaxPooling2D\n",
    "from keras.utils import to_categorical\n",
    "\n",
    "import numpy as np\n",
    "import h5py\n",
    "import matplotlib.pyplot as plt\n",
    "import sys\n",
    "\n",
    "%matplotlib inline"
   ]
  },
  {
   "cell_type": "markdown",
   "metadata": {
    "colab_type": "text",
    "id": "ba8CQnSUS34x"
   },
   "source": [
    "### Prepare data"
   ]
  },
  {
   "cell_type": "code",
   "execution_count": 2,
   "metadata": {
    "colab": {},
    "colab_type": "code",
    "id": "fgwYVDvfS34y"
   },
   "outputs": [],
   "source": [
    "def load_dataset():\n",
    "    train_dataset = h5py.File('datasets/train_catvnoncat.h5', \"r\")\n",
    "    train_set_x_orig = np.array(train_dataset[\"train_set_x\"][:]) # your train set features\n",
    "    train_set_y_orig = np.array(train_dataset[\"train_set_y\"][:]) # your train set labels\n",
    "\n",
    "    test_dataset = h5py.File('datasets/test_catvnoncat.h5', \"r\")\n",
    "    test_set_x_orig = np.array(test_dataset[\"test_set_x\"][:]) # your test set features\n",
    "    test_set_y_orig = np.array(test_dataset[\"test_set_y\"][:]) # your test set labels\n",
    "\n",
    "    classes = np.array(test_dataset[\"list_classes\"][:]) # the list of classes\n",
    "    \n",
    "    return train_set_x_orig, train_set_y_orig, test_set_x_orig, test_set_y_orig, classes"
   ]
  },
  {
   "cell_type": "code",
   "execution_count": 3,
   "metadata": {
    "colab": {},
    "colab_type": "code",
    "id": "Zurkb0d_S340"
   },
   "outputs": [],
   "source": [
    "train_set_x_orig, train_set_y, test_set_x_orig, test_set_y, classes = load_dataset()"
   ]
  },
  {
   "cell_type": "markdown",
   "metadata": {
    "colab_type": "text",
    "id": "fBiwJXirS343"
   },
   "source": [
    "Reshape all train_set_x_orig, train_set_y, test_set_x_orig, test_set_y into right shape. See instruction for detials."
   ]
  },
  {
   "cell_type": "code",
   "execution_count": 4,
   "metadata": {
    "colab": {},
    "colab_type": "code",
    "id": "R-LPt2hKS344"
   },
   "outputs": [],
   "source": [
    "#train_set_x_orig = np.reshape(train_set_x_orig, np.prod(train_set_x_orig.shape))\n",
    "#test_set_x_orig = np.reshape(test_set_x_orig, np.prod(test_set_x_orig.shape))\n",
    "\n",
    "train_set_y = np.reshape(train_set_y, (1, train_set_y.size))\n",
    "test_set_y = np.reshape(test_set_y, (1, test_set_y.size))"
   ]
  },
  {
   "cell_type": "markdown",
   "metadata": {
    "colab_type": "text",
    "id": "vZjl-9UJS346"
   },
   "source": [
    "Turn y_train_binary and y_test_binary into categorical"
   ]
  },
  {
   "cell_type": "code",
   "execution_count": 5,
   "metadata": {
    "colab": {},
    "colab_type": "code",
    "id": "Ysli1jNaS347"
   },
   "outputs": [],
   "source": [
    "y_train_binary = to_categorical(train_set_y)\n",
    "y_test_binary = to_categorical(test_set_y)"
   ]
  },
  {
   "cell_type": "markdown",
   "metadata": {
    "colab_type": "text",
    "id": "mb7f8SR7S34-"
   },
   "source": [
    "Visualize data ( train_set_x_orig )"
   ]
  },
  {
   "cell_type": "code",
   "execution_count": 6,
   "metadata": {
    "colab": {},
    "colab_type": "code",
    "id": "qzbNw2LlS34-",
    "outputId": "70fa2044-47a6-4f18-8089-7f6b55f97f2b"
   },
   "outputs": [
    {
     "name": "stdout",
     "output_type": "stream",
     "text": [
      "y = [1], it's a 'cat' picture.\n"
     ]
    },
    {
     "data": {
      "image/png": "[encoded data removed]",
      "text/plain": [
       "<Figure size 432x288 with 1 Axes>"
      ]
     },
     "metadata": {
      "needs_background": "light"
     },
     "output_type": "display_data"
    }
   ],
   "source": [
    "index = 25\n",
    "plt.imshow(train_set_x_orig[index])\n",
    "print (\"y = \" + str(train_set_y[:, index]) + \", it's a '\" + classes[np.squeeze(train_set_y[:, index])].decode(\"utf-8\") +  \"' picture.\")\n"
   ]
  },
  {
   "cell_type": "markdown",
   "metadata": {
    "colab_type": "text",
    "id": "QEXP5dXJS35E"
   },
   "source": [
    "Convert train_set_x_orig and test_set_x_orig into \"float32\" and map their values into range[0,1]. Store final values into X_train and X_test with respect."
   ]
  },
  {
   "cell_type": "code",
   "execution_count": 7,
   "metadata": {
    "colab": {},
    "colab_type": "code",
    "id": "qf75gL1RS35F"
   },
   "outputs": [],
   "source": [
    "X_train = np.float32(train_set_x_orig)/255\n",
    "X_test = np.float32(test_set_x_orig)/255"
   ]
  },
  {
   "cell_type": "markdown",
   "metadata": {
    "colab_type": "text",
    "id": "-B1jQ2i8S35H"
   },
   "source": [
    "### Build model "
   ]
  },
  {
   "cell_type": "code",
   "execution_count": 8,
   "metadata": {
    "colab": {},
    "colab_type": "code",
    "id": "v6gSCVThS35I",
    "outputId": "f3b631d2-4620-412d-bb95-f04e29143ad2"
   },
   "outputs": [
    {
     "name": "stdout",
     "output_type": "stream",
     "text": [
      "WARNING:tensorflow:From /Library/Frameworks/Python.framework/Versions/3.7/lib/python3.7/site-packages/tensorflow/python/framework/op_def_library.py:263: colocate_with (from tensorflow.python.framework.ops) is deprecated and will be removed in a future version.\n",
      "Instructions for updating:\n",
      "Colocations handled automatically by placer.\n",
      "WARNING:tensorflow:From /Library/Frameworks/Python.framework/Versions/3.7/lib/python3.7/site-packages/keras/backend/tensorflow_backend.py:3445: calling dropout (from tensorflow.python.ops.nn_ops) with keep_prob is deprecated and will be removed in a future version.\n",
      "Instructions for updating:\n",
      "Please use `rate` instead of `keep_prob`. Rate should be set to `rate = 1 - keep_prob`.\n"
     ]
    }
   ],
   "source": [
    "model = Sequential()\n",
    "model.add(Convolution2D(32, (4,4), activation=\"relu\", input_shape=(64, 64, 3)))\n",
    "model.add(Convolution2D(32, (4,4), activation=\"relu\"))\n",
    "model.add(MaxPooling2D(pool_size=(2,2)))\n",
    "model.add(Dropout(0.25))\n",
    "model.add(Flatten())\n",
    "model.add(Dense(128, activation='relu'))\n",
    "model.add(Dense(64, activation='relu'))\n",
    "model.add(Dense(2, activation='sigmoid'))"
   ]
  },
  {
   "cell_type": "markdown",
   "metadata": {
    "colab_type": "text",
    "id": "E6yBBkixS35L"
   },
   "source": [
    "Compile model"
   ]
  },
  {
   "cell_type": "code",
   "execution_count": 9,
   "metadata": {
    "colab": {},
    "colab_type": "code",
    "id": "muFC3b0gS35M"
   },
   "outputs": [],
   "source": [
    "model.compile(loss='binary_crossentropy',\n",
    "              optimizer='adam',\n",
    "              metrics=['accuracy'])"
   ]
  },
  {
   "cell_type": "markdown",
   "metadata": {
    "colab_type": "text",
    "id": "eEpCLPXPS35O"
   },
   "source": [
    "### Train model"
   ]
  },
  {
   "cell_type": "code",
   "execution_count": 10,
   "metadata": {
    "colab": {},
    "colab_type": "code",
    "id": "NizHqeatS35P"
   },
   "outputs": [
    {
     "name": "stdout",
     "output_type": "stream",
     "text": [
      "WARNING:tensorflow:From /Library/Frameworks/Python.framework/Versions/3.7/lib/python3.7/site-packages/tensorflow/python/ops/math_ops.py:3066: to_int32 (from tensorflow.python.ops.math_ops) is deprecated and will be removed in a future version.\n",
      "Instructions for updating:\n",
      "Use tf.cast instead.\n",
      "Epoch 1/10\n",
      "209/209 [==============================] - 3s 16ms/step - loss: 0.6764 - acc: 0.6268\n",
      "Epoch 2/10\n",
      "209/209 [==============================] - 3s 12ms/step - loss: 0.6106 - acc: 0.6555\n",
      "Epoch 3/10\n",
      "209/209 [==============================] - 3s 12ms/step - loss: 0.5088 - acc: 0.6555\n",
      "Epoch 4/10\n",
      "209/209 [==============================] - 3s 12ms/step - loss: 0.4719 - acc: 0.6555\n",
      "Epoch 5/10\n",
      "209/209 [==============================] - 3s 12ms/step - loss: 0.4325 - acc: 0.6818\n",
      "Epoch 6/10\n",
      "209/209 [==============================] - 3s 13ms/step - loss: 0.3925 - acc: 0.7919\n",
      "Epoch 7/10\n",
      "209/209 [==============================] - 3s 12ms/step - loss: 0.3880 - acc: 0.8182\n",
      "Epoch 8/10\n",
      "209/209 [==============================] - 3s 12ms/step - loss: 0.3515 - acc: 0.8469\n",
      "Epoch 9/10\n",
      "209/209 [==============================] - 3s 12ms/step - loss: 0.3006 - acc: 0.9019\n",
      "Epoch 10/10\n",
      "209/209 [==============================] - 3s 12ms/step - loss: 0.2637 - acc: 0.8995\n"
     ]
    },
    {
     "data": {
      "text/plain": [
       "<keras.callbacks.History at 0x127480470>"
      ]
     },
     "execution_count": 10,
     "metadata": {},
     "output_type": "execute_result"
    }
   ],
   "source": [
    "model.fit(X_train, y_train_binary[0], \n",
    "          batch_size=64, epochs=10, verbose=1)"
   ]
  },
  {
   "cell_type": "markdown",
   "metadata": {
    "colab_type": "text",
    "id": "YC-q8l0SS35R"
   },
   "source": [
    "Evaluate model"
   ]
  },
  {
   "cell_type": "code",
   "execution_count": 11,
   "metadata": {
    "colab": {},
    "colab_type": "code",
    "id": "eVliCeQAS35S"
   },
   "outputs": [
    {
     "name": "stdout",
     "output_type": "stream",
     "text": [
      "The accuracy is: 0.8599999928474427\n"
     ]
    }
   ],
   "source": [
    "score = model.evaluate(X_test, y_test_binary[0], verbose=0)\n",
    "print(\"The accuracy is:\",score[1] )"
   ]
  },
  {
   "cell_type": "markdown",
   "metadata": {
    "colab_type": "text",
    "id": "afAwdPdIS35U"
   },
   "source": [
    "Make prediction using trained model with given data"
   ]
  },
  {
   "cell_type": "code",
   "execution_count": 13,
   "metadata": {
    "colab": {},
    "colab_type": "code",
    "id": "G8swHC0MS35V"
   },
   "outputs": [],
   "source": [
    "pred = model.predict(X_test)"
   ]
  },
  {
   "cell_type": "markdown",
   "metadata": {
    "colab_type": "text",
    "id": "-9UcMtZAS35X"
   },
   "source": [
    "Visualize predicting result"
   ]
  },
  {
   "cell_type": "code",
   "execution_count": 14,
   "metadata": {
    "colab": {},
    "colab_type": "code",
    "id": "s3El86LRS35a"
   },
   "outputs": [],
   "source": [
    "res = []\n",
    "for p in pred:\n",
    "    temp = 'is' if p[1]>p[0] else 'is not'\n",
    "    res.append(temp)"
   ]
  },
  {
   "cell_type": "code",
   "execution_count": 15,
   "metadata": {
    "colab": {},
    "colab_type": "code",
    "id": "R3k-q_jNS35e"
   },
   "outputs": [
    {
     "name": "stdout",
     "output_type": "stream",
     "text": [
      "y = 1, you prediction is: it is a cat\n"
     ]
    },
    {
     "data": {
      "image/png": "[encoded data removed]",
      "text/plain": [
       "<Figure size 432x288 with 1 Axes>"
      ]
     },
     "metadata": {
      "needs_background": "light"
     },
     "output_type": "display_data"
    }
   ],
   "source": [
    "index = 1\n",
    "plt.imshow(test_set_x_orig[index])\n",
    "print (\"y = \" + str(test_set_y[0,index]) + \", you prediction is: it \" + res[index] + ' a cat')"
   ]
  },
  {
   "cell_type": "markdown",
   "metadata": {
    "colab_type": "text",
    "id": "EbwtrNKdS35h"
   },
   "source": [
    "Display index of all mis-predicted pictures"
   ]
  },
  {
   "cell_type": "code",
   "execution_count": 15,
   "metadata": {
    "colab": {},
    "colab_type": "code",
    "id": "Of-RqTDnS35i"
   },
   "outputs": [],
   "source": [
    "pred_res= []\n",
    "for p in pred:\n",
    "    if p[0]<p[1]:\n",
    "        pred_res.append(1)\n",
    "    else:\n",
    "        pred_res.append(0)\n",
    "diff_index = []\n",
    "for i in range(len(pred_res)):\n",
    "    if pred_res[i] != test_set_y[0][i]:\n",
    "        diff_index.append(i)\n",
    "        "
   ]
  },
  {
   "cell_type": "code",
   "execution_count": 16,
   "metadata": {
    "colab": {},
    "colab_type": "code",
    "id": "bvjHW0kUS35l"
   },
   "outputs": [
    {
     "data": {
      "text/plain": [
       "[11, 13, 18, 19, 21, 30, 34, 41, 44]"
      ]
     },
     "execution_count": 16,
     "metadata": {},
     "output_type": "execute_result"
    }
   ],
   "source": [
    "diff_index"
   ]
  },
  {
   "cell_type": "markdown",
   "metadata": {
    "colab_type": "text",
    "id": "ZuIB0xZXS35n"
   },
   "source": [
    "Visualize"
   ]
  },
  {
   "cell_type": "code",
   "execution_count": 17,
   "metadata": {
    "colab": {},
    "colab_type": "code",
    "id": "6wrcs_kZS35n"
   },
   "outputs": [
    {
     "name": "stdout",
     "output_type": "stream",
     "text": [
      "y = 1, you predicted is: it is a cat\n"
     ]
    },
    {
     "data": {
      "image/png": "[encoded data removed]",
      "text/plain": [
       "<Figure size 432x288 with 1 Axes>"
      ]
     },
     "metadata": {
      "needs_background": "light"
     },
     "output_type": "display_data"
    }
   ],
   "source": [
    "index = 15\n",
    "plt.imshow(test_set_x_orig[index])\n",
    "print (\"y = \" + str(test_set_y[0,index]) + \", you predicted is: it \" + res[index] + ' a cat')"
   ]
  },
  {
   "cell_type": "code",
   "execution_count": null,
   "metadata": {},
   "outputs": [],
   "source": []
  }
 ],
 "metadata": {
  "colab": {
   "name": "441Project1G.ipynb",
   "provenance": [],
   "version": "0.3.2"
  },
  "kernelspec": {
   "display_name": "Python 3",
   "language": "python",
   "name": "python3"
  },
  "language_info": {
   "codemirror_mode": {
    "name": "ipython",
    "version": 3
   },
   "file_extension": ".py",
   "mimetype": "text/x-python",
   "name": "python",
   "nbconvert_exporter": "python",
   "pygments_lexer": "ipython3",
   "version": "3.7.2"
  }
 },
 "nbformat": 4,
 "nbformat_minor": 1
}
